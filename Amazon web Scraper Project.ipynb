{
 "cells": [
  {
   "cell_type": "code",
   "execution_count": 3,
   "id": "9962b98a-cdf6-4993-b928-71b03276c368",
   "metadata": {},
   "outputs": [],
   "source": [
    "#Import libraries\n",
    "from bs4 import BeautifulSoup\n",
    "import requests\n",
    "import smtplib\n",
    "import time\n",
    "import datetime\n"
   ]
  },
  {
   "cell_type": "code",
   "execution_count": 43,
   "id": "a6de0c7a-2d7a-4ac1-b0c6-f8f6055c0241",
   "metadata": {},
   "outputs": [
    {
     "name": "stdout",
     "output_type": "stream",
     "text": [
      "May The (F=m*dv/dt) Be with You | Funny Physics Science Unisex T-Shirt\n",
      "19.99\n"
     ]
    }
   ],
   "source": [
    " # Connect to Website and pull in data\n",
    "\n",
    "URL = 'https://www.amazon.com/dp/B00TEAYUFI/ref=sspa_dk_detail_1?psc=1&pd_rd_i=B00TEAYUFI&pd_rd_w=lW1R4&content-id=amzn1.sym.eb7c1ac5-7c51-4df5-ba34-ca810f1f119a&pf_rd_p=eb7c1ac5-7c51-4df5-ba34-ca810f1f119a&pf_rd_r=T9XZVFXYVDZP6XC4PEBH&pd_rd_wg=ggVVG&pd_rd_r=4953a99d-227d-4f38-b86f-a6c93ecfa1cc&s=apparel&sp_csd=d2lkZ2V0TmFtZT1zcF9kZXRhaWw'\n",
    "\n",
    "# Unique for every PC --  https://httpbin.org/get\n",
    "headers = {\"User-Agent\": \"Mozilla/5.0 (Windows NT 10.0; Win64; x64) AppleWebKit/537.36 (KHTML, like Gecko) Chrome/123.0.0.0 Safari/537.36 Edg/123.0.0.0\", \"Accept-Encoding\":\"gzip, deflate\", \"Accept\":\"text/html,application/xhtml+xml,application/xml;q=0.9,*/*;q=0.8\", \"DNT\":\"1\",\"Connection\":\"close\", \"Upgrade-Insecure-Requests\":\"1\"}\n",
    "\n",
    "page = requests.get(URL, headers=headers)\n",
    "\n",
    "soup1 = BeautifulSoup(page.content, \"html.parser\")\n",
    "soup2 = BeautifulSoup(soup1.prettify(), \"html.parser\")\n",
    "\n",
    "#Getting the title in the page\n",
    "title = soup2.find(id='productTitle').get_text().replace('\\n','').strip()\n",
    "#Getting the price in the page\n",
    "#price0 = soup2.find(class_='a-price-symbol').get_text()\n",
    "price1 = soup2.find(class_='a-price-whole').get_text()\n",
    "price2 = soup2.find(class_='a-price-fraction').get_text()\n",
    "price = (price1 + price2).strip().replace('\\n','').replace(' ','')\n",
    "\n",
    "print(title)\n",
    "print(price)"
   ]
  },
  {
   "cell_type": "code",
   "execution_count": 47,
   "id": "f044ac46-d62d-4f47-8d4c-b2f2c8a8c8de",
   "metadata": {},
   "outputs": [
    {
     "name": "stdout",
     "output_type": "stream",
     "text": [
      "2024-04-18\n"
     ]
    }
   ],
   "source": [
    "# Create a Timestamp for your output to track when data was collected\n",
    "\n",
    "import datetime\n",
    "\n",
    "today = datetime.date.today()\n",
    "\n",
    "print(today)"
   ]
  },
  {
   "cell_type": "code",
   "execution_count": 48,
   "id": "4f2a112c-69cc-4c77-9294-0e061bc8a84d",
   "metadata": {},
   "outputs": [],
   "source": [
    "import csv \n",
    "\n",
    "header = ['Title', 'Price','Date']\n",
    "data = [title, price, today]\n",
    "\n",
    "\n",
    "with open('AmazonWebScraperData.csv', 'w', newline='', encoding='UTF8') as f:\n",
    "    writer = csv.writer(f)\n",
    "    writer.writerow(header)\n",
    "    writer.writerow(data)"
   ]
  },
  {
   "cell_type": "code",
   "execution_count": 52,
   "id": "adc5b3a3-a56a-4520-b41c-5d6b39cfc568",
   "metadata": {},
   "outputs": [
    {
     "name": "stdout",
     "output_type": "stream",
     "text": [
      "                                               Title  Price        Date\n",
      "0  May The (F=m*dv/dt) Be with You | Funny Physic...  19.99  2024-04-18\n",
      "1  May The (F=m*dv/dt) Be with You | Funny Physic...  19.99  2024-04-18\n"
     ]
    }
   ],
   "source": [
    "import pandas as pd\n",
    "df = pd.read_csv(r'C:\\Users\\samue\\AmazonWebScraperData.csv') #route of csv\n",
    "print(df)\n",
    "\n"
   ]
  },
  {
   "cell_type": "code",
   "execution_count": 51,
   "id": "558df8fd-ad21-40bc-88c3-d3667332ae1a",
   "metadata": {},
   "outputs": [],
   "source": [
    "#appending data to the csv\n",
    "#Just run it one time to not delete data\n",
    "with open('AmazonWebScraperData.csv', 'a+', newline='', encoding='UTF8') as f:\n",
    "    writer = csv.writer(f)\n",
    "    writer.writerow(data)"
   ]
  },
  {
   "cell_type": "code",
   "execution_count": 53,
   "id": "08a90c90-d92d-4130-b600-dcb0a401f20b",
   "metadata": {},
   "outputs": [],
   "source": [
    "\n",
    "\n",
    "def check_price():\n",
    "    \n",
    "    URL = 'https://www.amazon.com/dp/B00TEAYUFI/ref=sspa_dk_detail_1?psc=1&pd_rd_i=B00TEAYUFI&pd_rd_w=lW1R4&content-id=amzn1.sym.eb7c1ac5-7c51-4df5-ba34-ca810f1f119a&pf_rd_p=eb7c1ac5-7c51-4df5-ba34-ca810f1f119a&pf_rd_r=T9XZVFXYVDZP6XC4PEBH&pd_rd_wg=ggVVG&pd_rd_r=4953a99d-227d-4f38-b86f-a6c93ecfa1cc&s=apparel&sp_csd=d2lkZ2V0TmFtZT1zcF9kZXRhaWw'\n",
    "\n",
    "    # Unique for every PC --  https://httpbin.org/get\n",
    "    headers = {\"User-Agent\": \"Mozilla/5.0 (Windows NT 10.0; Win64; x64) AppleWebKit/537.36 (KHTML, like Gecko) Chrome/123.0.0.0 Safari/537.36 Edg/123.0.0.0\", \"Accept-Encoding\":\"gzip, deflate\", \"Accept\":\"text/html,application/xhtml+xml,application/xml;q=0.9,*/*;q=0.8\", \"DNT\":\"1\",\"Connection\":\"close\", \"Upgrade-Insecure-Requests\":\"1\"}\n",
    "    \n",
    "    page = requests.get(URL, headers=headers)\n",
    "    \n",
    "    soup1 = BeautifulSoup(page.content, \"html.parser\")\n",
    "    soup2 = BeautifulSoup(soup1.prettify(), \"html.parser\")\n",
    "    \n",
    "    #Getting the title in the page\n",
    "    title = soup2.find(id='productTitle').get_text().replace('\\n','').strip()\n",
    "    \n",
    "    #Getting the price in the page\n",
    "    #price0 = soup2.find(class_='a-price-symbol').get_text()\n",
    "    price1 = soup2.find(class_='a-price-whole').get_text()\n",
    "    price2 = soup2.find(class_='a-price-fraction').get_text()\n",
    "    price = (price1 + price2).strip().replace('\\n','').replace(' ','')\n",
    "\n",
    "    print(title)\n",
    "    print(price)\n",
    "\n",
    "    import datetime\n",
    "\n",
    "    today = datetime.date.today()\n",
    "    \n",
    "    import csv \n",
    "\n",
    "    header = ['Title', 'Price','Date']\n",
    "    data = [title, price, today]\n",
    "\n",
    "    with open('AmazonWebScraperData.csv', 'a+', newline='', encoding='UTF8') as f:\n",
    "        writer = csv.writer(f)\n",
    "        writer.writerow(data)\n",
    "\n",
    "   \n",
    "    #if(price < 14)):\n",
    "        #send_email\n",
    "   \n",
    "\n",
    "\n",
    "\n",
    "    "
   ]
  },
  {
   "cell_type": "code",
   "execution_count": 54,
   "id": "515f8710-86da-4f9b-987c-1962fcb91e37",
   "metadata": {},
   "outputs": [
    {
     "name": "stdout",
     "output_type": "stream",
     "text": [
      "May The (F=m*dv/dt) Be with You | Funny Physics Science Unisex T-Shirt\n",
      "19.99\n",
      "May The (F=m*dv/dt) Be with You | Funny Physics Science Unisex T-Shirt\n",
      "19.99\n",
      "May The (F=m*dv/dt) Be with You | Funny Physics Science Unisex T-Shirt\n",
      "19.99\n"
     ]
    },
    {
     "ename": "KeyboardInterrupt",
     "evalue": "",
     "output_type": "error",
     "traceback": [
      "\u001b[1;31m---------------------------------------------------------------------------\u001b[0m",
      "\u001b[1;31mKeyboardInterrupt\u001b[0m                         Traceback (most recent call last)",
      "Cell \u001b[1;32mIn[54], line 5\u001b[0m\n\u001b[0;32m      3\u001b[0m \u001b[38;5;28;01mwhile\u001b[39;00m(\u001b[38;5;28;01mTrue\u001b[39;00m):\n\u001b[0;32m      4\u001b[0m     check_price()\n\u001b[1;32m----> 5\u001b[0m     time\u001b[38;5;241m.\u001b[39msleep(\u001b[38;5;241m5\u001b[39m)\n",
      "\u001b[1;31mKeyboardInterrupt\u001b[0m: "
     ]
    }
   ],
   "source": [
    "# Runs check_price after a set time and inputs data into your CSV\n",
    "\n",
    "while(True):\n",
    "    check_price()\n",
    "    time.sleep(86400)"
   ]
  },
  {
   "cell_type": "code",
   "execution_count": 55,
   "id": "cd4d40cf-ce2e-4a27-b539-6476d56d3ea7",
   "metadata": {},
   "outputs": [
    {
     "name": "stdout",
     "output_type": "stream",
     "text": [
      "                                               Title  Price        Date\n",
      "0  May The (F=m*dv/dt) Be with You | Funny Physic...  19.99  2024-04-18\n",
      "1  May The (F=m*dv/dt) Be with You | Funny Physic...  19.99  2024-04-18\n",
      "2  May The (F=m*dv/dt) Be with You | Funny Physic...  19.99  2024-04-18\n",
      "3  May The (F=m*dv/dt) Be with You | Funny Physic...  19.99  2024-04-18\n",
      "4  May The (F=m*dv/dt) Be with You | Funny Physic...  19.99  2024-04-18\n"
     ]
    }
   ],
   "source": [
    "import pandas as pd\n",
    "df = pd.read_csv(r'C:\\Users\\samue\\AmazonWebScraperData.csv') #route of csv\n",
    "print(df)\n"
   ]
  },
  {
   "cell_type": "code",
   "execution_count": null,
   "id": "8b48d2bd-cafd-4b0d-bb3f-d5ac51f223e8",
   "metadata": {},
   "outputs": [],
   "source": [
    "# Send email when prices is at certain level\n",
    "\n",
    "def send_mail():\n",
    "    server = smtplib.SMTP_SSL('smtp.gmail.com',465)\n",
    "    server.ehlo()\n",
    "    #server.starttls()\n",
    "    server.ehlo()\n",
    "    server.login('myemail5@gmail.com','mypassword')\n",
    "    \n",
    "    subject = \"The Shirt you want is below $15! Now is your chance to buy, Hurry up!\"\n",
    "    body = \"David, This is the moment we have been waiting for. Now is your chance to pick up the shirt of your dreams. Don't mess it up! Link here: https://www.amazon.com/Funny-Data-Systems-Business-Analyst/dp/B07FNW9FGJ/ref=sr_1_3?dchild=1&keywords=data+analyst+tshirt&qid=1626655184&sr=8-3\"\n",
    "   \n",
    "    msg = f\"Subject: {subject}\\n\\n{body}\"\n",
    "    \n",
    "    server.sendmail(\n",
    "        'myemail@gmail.com',\n",
    "        msg\n",
    "    )"
   ]
  }
 ],
 "metadata": {
  "kernelspec": {
   "display_name": "Python 3 (ipykernel)",
   "language": "python",
   "name": "python3"
  },
  "language_info": {
   "codemirror_mode": {
    "name": "ipython",
    "version": 3
   },
   "file_extension": ".py",
   "mimetype": "text/x-python",
   "name": "python",
   "nbconvert_exporter": "python",
   "pygments_lexer": "ipython3",
   "version": "3.11.7"
  }
 },
 "nbformat": 4,
 "nbformat_minor": 5
}
